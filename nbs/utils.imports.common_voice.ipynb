{
 "cells": [
  {
   "cell_type": "code",
   "execution_count": null,
   "metadata": {},
   "outputs": [],
   "source": [
    "#default_exp utils.imports.common_voice"
   ]
  },
  {
   "cell_type": "code",
   "execution_count": null,
   "metadata": {},
   "outputs": [],
   "source": [
    "#export\n",
    "import os, sys\n",
    "import shutil\n",
    "import multiprocessing\n",
    "import math\n",
    "\n",
    "import pandas as pd\n",
    "import tensorflow as tf\n",
    "import tensorflow_io as tfio\n",
    "\n",
    "import ffmpeg\n",
    "import json\n",
    "\n",
    "from typing import TextIO\n",
    "\n",
    "import audioengine\n",
    "from audioengine.utils.schema import verify_audioengine_dataset\n",
    "from audioengine.utils.misc import (log_init, log_error, log_info, log_debug,\n",
    "                                    change_file_extension, get_json_file_integrity)"
   ]
  },
  {
   "cell_type": "code",
   "execution_count": null,
   "metadata": {},
   "outputs": [],
   "source": [
    "#This is not to be exported\n",
    "from IPython.display import display"
   ]
  },
  {
   "cell_type": "code",
   "execution_count": null,
   "metadata": {},
   "outputs": [
    {
     "name": "stdout",
     "output_type": "stream",
     "text": [
      "[INFO] Logging now set to file: /project/Development/ML/audio/logs/audioengine.log with level DEBUG\n"
     ]
    }
   ],
   "source": [
    "DEBUG = True \n",
    "\n",
    "if DEBUG:\n",
    "    log_init()\n",
    "    dataset_output_location = '/project/Datasets/audioengine_single_word'\n",
    "    dataset_input_location = '/project/Datasets/common_voice_single_word'\n",
    "    dataset_audio_clips_directory = 'clips'\n",
    "    dataset_name = 'dev.tsv'\n",
    "    if(os.path.isdir(dataset_output_location)):\n",
    "        shutil.rmtree(dataset_output_location)\n",
    "    else:\n",
    "        pass\n",
    "    os.mkdir(dataset_output_location)"
   ]
  },
  {
   "cell_type": "code",
   "execution_count": null,
   "metadata": {},
   "outputs": [],
   "source": [
    "#export\n",
    "\n",
    "def read_tsv(tsv_filepointer: TextIO) -> pd.DataFrame:\n",
    "    \"\"\"The input filepointer should already be open with no lines read\"\"\"\n",
    "    tsv_data_df = pd.read_csv(tsv_filepointer, sep = '\\t')\n",
    "    return tsv_data_df"
   ]
  },
  {
   "cell_type": "code",
   "execution_count": null,
   "metadata": {},
   "outputs": [],
   "source": [
    "#export\n",
    "\n",
    "def delete_pandas_columns(df: pd.DataFrame, column_list: list) -> pd.DataFrame:\n",
    "    for column in column_list:\n",
    "        del df[column]\n",
    "    return df"
   ]
  },
  {
   "cell_type": "code",
   "execution_count": null,
   "metadata": {},
   "outputs": [
    {
     "data": {
      "text/html": [
       "<div>\n",
       "<style scoped>\n",
       "    .dataframe tbody tr th:only-of-type {\n",
       "        vertical-align: middle;\n",
       "    }\n",
       "\n",
       "    .dataframe tbody tr th {\n",
       "        vertical-align: top;\n",
       "    }\n",
       "\n",
       "    .dataframe thead th {\n",
       "        text-align: right;\n",
       "    }\n",
       "</style>\n",
       "<table border=\"1\" class=\"dataframe\">\n",
       "  <thead>\n",
       "    <tr style=\"text-align: right;\">\n",
       "      <th></th>\n",
       "      <th>path</th>\n",
       "      <th>sentence</th>\n",
       "    </tr>\n",
       "  </thead>\n",
       "  <tbody>\n",
       "    <tr>\n",
       "      <th>0</th>\n",
       "      <td>common_voice_en_22216022.mp3</td>\n",
       "      <td>two</td>\n",
       "    </tr>\n",
       "    <tr>\n",
       "      <th>1</th>\n",
       "      <td>common_voice_en_22216028.mp3</td>\n",
       "      <td>zero</td>\n",
       "    </tr>\n",
       "    <tr>\n",
       "      <th>2</th>\n",
       "      <td>common_voice_en_22216029.mp3</td>\n",
       "      <td>three</td>\n",
       "    </tr>\n",
       "    <tr>\n",
       "      <th>3</th>\n",
       "      <td>common_voice_en_22216033.mp3</td>\n",
       "      <td>eight</td>\n",
       "    </tr>\n",
       "    <tr>\n",
       "      <th>4</th>\n",
       "      <td>common_voice_en_22216036.mp3</td>\n",
       "      <td>Firefox</td>\n",
       "    </tr>\n",
       "    <tr>\n",
       "      <th>...</th>\n",
       "      <td>...</td>\n",
       "      <td>...</td>\n",
       "    </tr>\n",
       "    <tr>\n",
       "      <th>8212</th>\n",
       "      <td>common_voice_en_22174176.mp3</td>\n",
       "      <td>two</td>\n",
       "    </tr>\n",
       "    <tr>\n",
       "      <th>8213</th>\n",
       "      <td>common_voice_en_22174177.mp3</td>\n",
       "      <td>six</td>\n",
       "    </tr>\n",
       "    <tr>\n",
       "      <th>8214</th>\n",
       "      <td>common_voice_en_22174227.mp3</td>\n",
       "      <td>no</td>\n",
       "    </tr>\n",
       "    <tr>\n",
       "      <th>8215</th>\n",
       "      <td>common_voice_en_22174230.mp3</td>\n",
       "      <td>four</td>\n",
       "    </tr>\n",
       "    <tr>\n",
       "      <th>8216</th>\n",
       "      <td>common_voice_en_22174234.mp3</td>\n",
       "      <td>Hey</td>\n",
       "    </tr>\n",
       "  </tbody>\n",
       "</table>\n",
       "<p>8217 rows × 2 columns</p>\n",
       "</div>"
      ],
      "text/plain": [
       "                              path sentence\n",
       "0     common_voice_en_22216022.mp3      two\n",
       "1     common_voice_en_22216028.mp3     zero\n",
       "2     common_voice_en_22216029.mp3    three\n",
       "3     common_voice_en_22216033.mp3    eight\n",
       "4     common_voice_en_22216036.mp3  Firefox\n",
       "...                            ...      ...\n",
       "8212  common_voice_en_22174176.mp3      two\n",
       "8213  common_voice_en_22174177.mp3      six\n",
       "8214  common_voice_en_22174227.mp3       no\n",
       "8215  common_voice_en_22174230.mp3     four\n",
       "8216  common_voice_en_22174234.mp3      Hey\n",
       "\n",
       "[8217 rows x 2 columns]"
      ]
     },
     "metadata": {},
     "output_type": "display_data"
    }
   ],
   "source": [
    "if DEBUG:\n",
    "    common_voice_train_filepath = os.path.join(dataset_input_location, dataset_name)\n",
    "    common_voice_train_filepointer = open(common_voice_train_filepath, 'r')\n",
    "    common_voice_train_df = read_tsv(common_voice_train_filepointer)\n",
    "    drop_columns = ['age', 'gender', 'accent', 'locale', 'segment', 'up_votes', 'down_votes', 'client_id']\n",
    "    common_voice_train_df = delete_pandas_columns(common_voice_train_df, drop_columns)\n",
    "    display(common_voice_train_df)"
   ]
  },
  {
   "cell_type": "code",
   "execution_count": null,
   "metadata": {},
   "outputs": [],
   "source": [
    "def convert_df_to_audioengine_label(df: pd.DataFrame, path_column_name: str, label_column_name: str) -> dict:\n",
    "    audio_data_json = {}\n",
    "    categories = []\n",
    "    categories_id_map = {}\n",
    "    categories_json_list = []\n",
    "    audio_json_list = []\n",
    "    for i, v in df.iterrows():\n",
    "        split_filename = v[path_column_name].split('.')\n",
    "        split_filename.pop(len(split_filename)-1)\n",
    "        filename = '.'.join(split_filename) + '.wav'\n",
    "        label = v[label_column_name]\n",
    "        #contents = tf.io.read_file(filepath)\n",
    "        #audio_data, _ = tf.audio.decode_wav(contents)\n",
    "        #audio_data = tf.squeeze(audio, axis=-1)\n",
    "        #audio_data = {}\n",
    "        if(label not in categories):\n",
    "            categories.append(label)\n",
    "            categories_id_map[label] = len(categories)\n",
    "            categories_json = {'id': len(categories),\n",
    "                              'name': label,\n",
    "                              'supercategory': 'Word'}\n",
    "            categories_json_list.append(categories_json.copy())\n",
    "        else:\n",
    "            pass\n",
    "        category_id = categories_id_map[label]\n",
    "        audio_json = {'id': i,\n",
    "                     'category_id': category_id,\n",
    "                     'file_name': filename}\n",
    "        audio_json_list.append(audio_json.copy())\n",
    "    licenses_json = {\n",
    "        'id': 1,\n",
    "        'name': 'CC0',\n",
    "        'url': 'https://creativecommons.org/share-your-work/public-domain/cc0/'\n",
    "    }\n",
    "    info_json = {\n",
    "        'year': 2021,\n",
    "        'version': '1.0',\n",
    "        'description': 'Mozilla single word dataset',\n",
    "        'contributor': 'Mozilla and contributors',\n",
    "        'url': 'https://commonvoice.mozilla.org/en',\n",
    "        'date_created': '2021-06-30',\n",
    "        'task': 'classification',\n",
    "    }\n",
    "    audioengine_dataset = {'info': info_json,\n",
    "                          'licenses': [licenses_json],\n",
    "                          'audio': audio_json_list,\n",
    "                          'categories': categories_json_list}\n",
    "    return audioengine_dataset"
   ]
  },
  {
   "cell_type": "code",
   "execution_count": null,
   "metadata": {},
   "outputs": [],
   "source": [
    "if DEBUG:\n",
    "    audioengine_json = convert_df_to_audioengine_label(common_voice_train_df, 'path', 'sentence')\n",
    "    if(not verify_audioengine_dataset(audioengine_json)):\n",
    "        log_error('The common voice import failed because the audioengine_json did not match the audioengine_dataset schema')\n",
    "    else:\n",
    "        log_info('Success the common voice descriptor file has successfully been converted into the audioengine JSON format')"
   ]
  },
  {
   "cell_type": "code",
   "execution_count": null,
   "metadata": {},
   "outputs": [],
   "source": [
    "def convert_audio_file_to_wav(in_filename: str, out_filename: str) -> bool:\n",
    "    if(os.path.isfile(in_filename)):\n",
    "        if(os.path.isfile(out_filename)):\n",
    "            return True #File exists\n",
    "        else:\n",
    "            pass\n",
    "        \n",
    "        ffmpeg.output(ffmpeg.input(in_filename), out_filename).run()\n",
    "        if(os.path.isfile(out_filename)):\n",
    "            return True\n",
    "        else:\n",
    "            log_error('Failed to convert {} to {}'.format(in_filename, out_filename))\n",
    "            return False\n",
    "    else:\n",
    "        log_error('Failed to convert {} file does not exist'.format(in_filename))\n",
    "        return False\n",
    "    return False\n",
    "\n",
    "def convert_audio_file_to_wav_multiprocessing_wrapper(filepath: dict) -> bool:\n",
    "    return convert_audio_file_to_wav(filepath['old'], filepath['new'])"
   ]
  },
  {
   "cell_type": "code",
   "execution_count": null,
   "metadata": {},
   "outputs": [],
   "source": [
    "def multiprocess_convert_files_to_wav(df: pd.DataFrame, \n",
    "                                      path_column_name: str, \n",
    "                                      old_directory: str,\n",
    "                                      new_directory: str,\n",
    "                                      num_cores: int=0) -> list:\n",
    "    if(num_cores<=0):\n",
    "        num_cores = (math.floor(multiprocessing.cpu_count() * 0.9) if math.floor(multiprocessing.cpu_count() * 0.9) >= 1 else 1) \n",
    "    else:\n",
    "        pass\n",
    "    \n",
    "    filepaths = []\n",
    "    for i, v in df.iterrows():\n",
    "        old_filename = v[path_column_name]\n",
    "        split_filename = old_filename.split('.')\n",
    "        split_filename.pop(len(split_filename)-1)\n",
    "        new_filename = '.'.join(split_filename) + '.wav'\n",
    "        \n",
    "        old_filepath = os.path.join(old_directory, old_filename)\n",
    "        new_filepath = os.path.join(new_directory, new_filename)\n",
    "        filepath_json = {'old': old_filepath, 'new': new_filepath}\n",
    "        filepaths.append(filepath_json.copy())\n",
    "    \n",
    "    success_list = []\n",
    "    \n",
    "    if(not os.path.isdir(new_directory)):\n",
    "        os.mkdir(new_directory)\n",
    "    else:\n",
    "        pass\n",
    "    \n",
    "    with multiprocessing.Pool(processes=num_cores) as pool:\n",
    "        for success in pool.imap_unordered(convert_audio_file_to_wav_multiprocessing_wrapper, filepaths):\n",
    "            success_list.append(success)\n",
    "        pool.close()\n",
    "    return success_list"
   ]
  },
  {
   "cell_type": "code",
   "execution_count": null,
   "metadata": {},
   "outputs": [
    {
     "name": "stdout",
     "output_type": "stream",
     "text": [
      "/project/Datasets/audioengine_single_word/clips\n"
     ]
    }
   ],
   "source": [
    "if DEBUG:\n",
    "    input_clips_path = os.path.join(dataset_input_location, dataset_audio_clips_directory) \n",
    "    output_clips_path = os.path.join(dataset_output_location, dataset_audio_clips_directory)\n",
    "    multiprocess_convert_files_to_wav(common_voice_train_df, 'path', input_clips_path, output_clips_path)"
   ]
  },
  {
   "cell_type": "code",
   "execution_count": null,
   "metadata": {},
   "outputs": [],
   "source": [
    "if DEBUG:\n",
    "    new_dataset_filename = change_file_extension(dataset_name, '.json')\n",
    "    new_dataset_filepath = os.path.join(dataset_output_location, new_dataset_filename)\n",
    "    audioengine_file = open(new_dataset_filepath, 'w')\n",
    "    json.dump(audioengine_json, audioengine_file, indent = 4)\n",
    "    audioengine_file.close()\n",
    "\n",
    "    if(get_json_file_integrity(audioengine_json, new_dataset_filepath) == False):\n",
    "        log_error('The JSON in the file {} does not match the json in memory'.format(new_dataset_filename))\n",
    "    else:\n",
    "        log_debug('|VALID| The JSON in the file {} matches the version in memory'.format(new_dataset_filename))"
   ]
  },
  {
   "cell_type": "code",
   "execution_count": null,
   "metadata": {},
   "outputs": [],
   "source": []
  }
 ],
 "metadata": {
  "kernelspec": {
   "display_name": "Python 3 (ipykernel)",
   "language": "python",
   "name": "python3"
  }
 },
 "nbformat": 4,
 "nbformat_minor": 4
}
