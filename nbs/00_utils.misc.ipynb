{
 "cells": [
  {
   "cell_type": "code",
   "execution_count": null,
   "metadata": {},
   "outputs": [],
   "source": [
    "#default_exp utils.misc"
   ]
  },
  {
   "cell_type": "code",
   "execution_count": null,
   "metadata": {},
   "outputs": [],
   "source": [
    "#export\n",
    "\n",
    "import os, sys\n",
    "import inspect\n",
    "import logging\n",
    "import json"
   ]
  },
  {
   "cell_type": "markdown",
   "metadata": {},
   "source": [
    "# Debug setup"
   ]
  },
  {
   "cell_type": "code",
   "execution_count": null,
   "metadata": {},
   "outputs": [],
   "source": [
    "#DEBUG = os.environ.get('GITHUB_ACTIONS', False) or os.environ.get('AUDIOENGINE_DEBUG', False)\n",
    "DEBUG = True"
   ]
  },
  {
   "cell_type": "markdown",
   "metadata": {},
   "source": [
    "# Object attribute util functions"
   ]
  },
  {
   "cell_type": "code",
   "execution_count": null,
   "metadata": {},
   "outputs": [],
   "source": [
    "#export\n",
    "\n",
    "def recursive_get_size(obj, seen=None):\n",
    "    size = sys.getsizeof(obj)\n",
    "    seen = (set() if seen is None else seen)\n",
    "    if(id(obj) in seen): return 0 #In the case of a self reference\n",
    "    else: pass\n",
    "    seen.add(id(obj))\n",
    "    if(isinstance(obj, dict)):\n",
    "        size += sum([recursive_get_size(v, seen=seen) for v in obj.values()])\n",
    "        size += sum([recursive_get_size(k ,seen=seen) for k in obj.keys()])\n",
    "    elif(hasattr(obj, '__dict__')):\n",
    "        size += recursive_get_size(obj.__dict__, seen)\n",
    "    elif(hasattr(obj, '__iter__') and not isinstance(obj, (str, bytes, bytearray))):\n",
    "        size += sum([recursive_get_size(i, seen) for i in obj])\n",
    "    return size"
   ]
  },
  {
   "cell_type": "markdown",
   "metadata": {},
   "source": [
    "# Logging utils"
   ]
  },
  {
   "cell_type": "code",
   "execution_count": null,
   "metadata": {},
   "outputs": [],
   "source": [
    "#export\n",
    "\n",
    "def log_init(log_filepath: str='', log_level: str='', clear_existing_log: bool=False):\n",
    "    config_filepath = os.environ.get('AUDIOENGINE_CONF_JSON', '/project/Development/ML/audio/config/audioengine.conf')\n",
    "    if(os.path.isfile(config_filepath)):\n",
    "        config_fp = open(config_filepath, 'r')\n",
    "        config_str = config_fp.read()\n",
    "        config_fp.close()\n",
    "    else:\n",
    "        config_str = ''\n",
    "    config_json = json.loads(config_str)\n",
    "    logging_options_json = config_json.get('logging', None)\n",
    "    if(logging_options_json is not None and (log_filepath == '' or log_level == '')):\n",
    "        if(log_level == ''):\n",
    "            log_level = logging_options_json.get('log_level')\n",
    "        else:\n",
    "            pass\n",
    "        if(log_filepath == ''):\n",
    "            log_filepath = logging_options_json.get('log_file')\n",
    "        else:\n",
    "            pass\n",
    "    else:\n",
    "        if(log_level == ''):\n",
    "            log_level = 'warning'\n",
    "        else:\n",
    "            pass\n",
    "        #Don't do anything for the filepath because it needs to log to console\n",
    "        \n",
    "    filemode = ('w' if clear_existing_log else 'a')\n",
    "    \n",
    "    if(log_level.lower() == 'debug'):\n",
    "        if(log_filepath == ''):\n",
    "            logging.basicConfig(level=logging.DEBUG, filemode=filemode)\n",
    "        else:\n",
    "            logging.basicConfig(level=logging.DEBUG, filename=log_filepath, filemode=filemode)\n",
    "    elif(log_level.lower() == 'info'):\n",
    "        if(log_filepath == ''):\n",
    "            logging.basicConfig(level=logging.INFO, filemode=filemode)\n",
    "        else:\n",
    "            logging.basicConfig(level=logging.INFO, filename=log_filepath, filemode=filemode)\n",
    "    elif(log_level.lower() == 'warning'):\n",
    "        if(log_filepath == ''):\n",
    "            logging.basicConfig(level=logging.WARNING, filemode=filemode)\n",
    "        else:\n",
    "            logging.basicConfig(level=logging.WARNING, filename=log_filepath, filemode=filemode)\n",
    "    elif(log_level.lower() == 'error'):\n",
    "        if(log_filepath == ''):\n",
    "            logging.basicConfig(level=logging.ERROR, filemode=filemode)\n",
    "        else:\n",
    "            logging.basicConfig(level=logging.ERROR, filename=log_filepath, filemode=filemode)\n",
    "    elif(log_level.lower() == 'critical'):\n",
    "        if(log_filepath == ''):\n",
    "            logging.basicConfig(level=logging.CRITICAL, filemode=filemode)\n",
    "        else:\n",
    "            logging.basicConfig(level=logging.CRITICAL, filename=log_filepath, filemode=filemode)\n",
    "    else:\n",
    "        #The log_level wasn't matched\n",
    "        logging.basicConfig(level=logging.WARNING)\n",
    "    log_location = ('console' if log_filepath == '' else 'file: {}'.format(log_filepath))\n",
    "    print('[INFO] Logging now set to {} with level {}'.format(log_location, log_level.upper()))\n",
    "        \n",
    "\n",
    "def log_critical(message, exc_info=False):\n",
    "    \"Automatically log the current function details.\"\n",
    "    func = inspect.currentframe().f_back.f_code\n",
    "    # Dump the message + the name of this function to the log.\n",
    "    logging.critical(\"{}: {} in {}:{}\".format(func.co_filename, func.co_name, func.co_firstlineno, message),\n",
    "                     exc_info=exc_info)\n",
    "\n",
    "def log_error(message, exc_info=False):\n",
    "    \"Automatically log the current function details.\"\n",
    "    func = inspect.currentframe().f_back.f_code\n",
    "    # Dump the message + the name of this function to the log.\n",
    "    logging.error(\"{}: {} in {}:{}\".format(func.co_filename, func.co_name, func.co_firstlineno, message),\n",
    "                  exc_info=exc_info)\n",
    "    \n",
    "def log_warning(message):\n",
    "    \"Automatically log the current function details.\"\n",
    "    func = inspect.currentframe().f_back.f_code\n",
    "    # Dump the message + the name of this function to the log.\n",
    "    logging.warning(\"{}: {} in {}:{}\".format(func.co_filename, func.co_name, func.co_firstlineno, message))    \n",
    "    \n",
    "def log_info(message):\n",
    "    \"Automatically log the current function details.\"\n",
    "    func = inspect.currentframe().f_back.f_code\n",
    "    # Dump the message + the name of this function to the log.\n",
    "    logging.info(\"{}: {} in {}:{}\".format(func.co_filename, func.co_name, func.co_firstlineno, message))\n",
    "    \n",
    "def log_debug(message):\n",
    "    \"Automatically log the current function details.\"\n",
    "    func = inspect.currentframe().f_back.f_code\n",
    "    # Dump the message + the name of this function to the log.\n",
    "    logging.debug(\"{}: {} in {}:{}\".format(func.co_filename, func.co_name, func.co_firstlineno, message))"
   ]
  },
  {
   "cell_type": "code",
   "execution_count": null,
   "metadata": {},
   "outputs": [
    {
     "name": "stdout",
     "output_type": "stream",
     "text": [
      "[INFO] Logging now set to file: /project/Development/ML/audio/logs/audioengine.log with level DEBUG\n"
     ]
    }
   ],
   "source": [
    "if DEBUG:\n",
    "    #log_init()\n",
    "    log_init(clear_existing_log=True)\n",
    "    log_critical('Critical test')\n",
    "    log_error('Error test')\n",
    "    log_warning('Warning test')\n",
    "    log_info('Info test')\n",
    "    log_debug('Debug test')\n",
    "    \n",
    "    try:\n",
    "        a = 2 / 0\n",
    "    except Exception as exception:\n",
    "        log_critical('Exception raised', exc_info=True)\n",
    "        \n",
    "    try:\n",
    "        a = 2 / 0\n",
    "    except Exception as exception:\n",
    "        log_error('Exception raised', exc_info=True)"
   ]
  },
  {
   "cell_type": "code",
   "execution_count": null,
   "metadata": {},
   "outputs": [],
   "source": []
  }
 ],
 "metadata": {
  "kernelspec": {
   "display_name": "Python 3 (ipykernel)",
   "language": "python",
   "name": "python3"
  }
 },
 "nbformat": 4,
 "nbformat_minor": 4
}
