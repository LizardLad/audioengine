{
 "cells": [
  {
   "cell_type": "code",
   "execution_count": null,
   "id": "a2733264",
   "metadata": {},
   "outputs": [],
   "source": [
    "#default_exp utils.wav_utils"
   ]
  },
  {
   "cell_type": "code",
   "execution_count": null,
   "id": "6196b690",
   "metadata": {},
   "outputs": [],
   "source": [
    "#export\n",
    "\n",
    "import ctypes\n",
    "import os\n",
    "\n",
    "libwavutils_rel_path = 'audioengine/clib/libwavutil.so'\n",
    "libwavutils_abs_path =os.path.abspath(libwavutils_rel_path)\n",
    "libwavutils = ctypes.CDLL(libwavutils_abs_path)"
   ]
  },
  {
   "cell_type": "code",
   "execution_count": null,
   "id": "65448fef",
   "metadata": {},
   "outputs": [],
   "source": [
    "DEBUG = True"
   ]
  },
  {
   "cell_type": "code",
   "execution_count": null,
   "id": "7165c390",
   "metadata": {},
   "outputs": [],
   "source": [
    "#export\n",
    "\n",
    "def get_max_samples_in_wav_from_directory(directory: str) -> int:\n",
    "    directory_c_str = ctypes.c_char_p(directory.encode())\n",
    "    max_samples = libwavutils.get_max_samples_in_wav_from_directory(directory_c_str)\n",
    "    return max_samples"
   ]
  },
  {
   "cell_type": "code",
   "execution_count": null,
   "id": "dd2cf67b",
   "metadata": {},
   "outputs": [],
   "source": [
    "if DEBUG:\n",
    "    print('Highest number of samples: {}'.format(get_max_samples_in_wav_from_directory('/project/Datasets/audioengine_single_word/clips/')))"
   ]
  },
  {
   "cell_type": "code",
   "execution_count": null,
   "id": "e0550b3a",
   "metadata": {},
   "outputs": [],
   "source": []
  }
 ],
 "metadata": {
  "kernelspec": {
   "display_name": "Python 3 (ipykernel)",
   "language": "python",
   "name": "python3"
  }
 },
 "nbformat": 4,
 "nbformat_minor": 5
}
