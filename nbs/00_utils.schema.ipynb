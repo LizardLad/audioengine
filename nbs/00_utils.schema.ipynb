{
 "cells": [
  {
   "cell_type": "code",
   "execution_count": null,
   "metadata": {},
   "outputs": [],
   "source": [
    "#default_exp utils.schema"
   ]
  },
  {
   "cell_type": "code",
   "execution_count": null,
   "metadata": {},
   "outputs": [],
   "source": [
    "#export\n",
    "\n",
    "import schema\n",
    "from typing import Any"
   ]
  },
  {
   "cell_type": "code",
   "execution_count": null,
   "metadata": {},
   "outputs": [],
   "source": [
    "#export\n",
    "\n",
    "audioengine_dataset_schema = schema.Schema(\n",
    "        {\n",
    "            'info': {\n",
    "                'year': int,\n",
    "                'version': str,\n",
    "                'description': str,\n",
    "                'contributor': str,\n",
    "                'url': str,\n",
    "                'date_created': str,\n",
    "                'task': schema.Or(lambda n: n=='classification', lambda n: n=='segmentation')\n",
    "            },\n",
    "            'licenses': [{\n",
    "                'id': int,\n",
    "                'name': str,\n",
    "                'url': str\n",
    "            }],\n",
    "            schema.Optional('annotations'): [{\n",
    "                'id': int,\n",
    "                'audio_id': int,\n",
    "                'category_id': int,\n",
    "                schema.Optional('segmentation'): [[int]]\n",
    "            }], \n",
    "            'audio': [{\n",
    "                'id': int,\n",
    "                'file_name': str,\n",
    "                schema.Optional('length'): int,\n",
    "                schema.Optional('license'): int,\n",
    "                schema.Optional('date_captured'): str,\n",
    "                schema.Optional('category_id'): int\n",
    "            }],\n",
    "            'categories': [{\n",
    "                'id': int,\n",
    "                'name': str,\n",
    "                'supercategory': str,\n",
    "            }]\n",
    "        }\n",
    "    )\n",
    "\n",
    "def verify_audioengine_dataset(dataset_json):\n",
    "    return audioengine_dataset_schema.is_valid(dataset_json)"
   ]
  },
  {
   "cell_type": "code",
   "execution_count": null,
   "metadata": {},
   "outputs": [],
   "source": [
    "#export\n",
    "\n",
    "audioengine_internal_audio_representation_schema = schema.Schema(\n",
    "        [{\n",
    "                'id': int,\n",
    "                'file_name': str,\n",
    "                'audio_data': Any,\n",
    "                'category_id': int,\n",
    "        }]\n",
    "    )\n",
    "def verify_audioengine_internal_audio_representation_schema(data):\n",
    "    return audioengine_internal_audio_representation_schema.is_valid(data)"
   ]
  }
 ],
 "metadata": {
  "kernelspec": {
   "display_name": "Python 3 (ipykernel)",
   "language": "python",
   "name": "python3"
  }
 },
 "nbformat": 4,
 "nbformat_minor": 4
}
