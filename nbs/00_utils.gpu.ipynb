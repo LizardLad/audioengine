{
 "cells": [
  {
   "cell_type": "code",
   "execution_count": null,
   "metadata": {},
   "outputs": [],
   "source": [
    "#default_exp utils.gpu"
   ]
  },
  {
   "cell_type": "code",
   "execution_count": null,
   "metadata": {},
   "outputs": [],
   "source": [
    "#export\n",
    "\n",
    "import tensorflow as tf"
   ]
  },
  {
   "cell_type": "code",
   "execution_count": null,
   "metadata": {},
   "outputs": [],
   "source": [
    "#export\n",
    "\n",
    "def get_num_gpus() -> int:\n",
    "    physical_devices = tf.config.experimental.list_physical_devices('GPU')\n",
    "    return len(physical_devices)\n",
    "\n",
    "def set_gpu_memory_limit(physical_gpu_device, limit: int=4096):\n",
    "    try:\n",
    "        tf.config.experimental.set_virtual_device_configuration(physical_gpu_device, [tf.config.experimental.VirtualDeviceConfiguration(memory_limit=4096)])\n",
    "    except Exception as exception:\n",
    "        #Virtual devices must be set before GPUs have been initialized\n",
    "        print(exception)\n",
    "\n",
    "def set_gpu_list_memory_limit(physical_devices: list, limit: int=4096):\n",
    "    for physical_device in physical_devices:\n",
    "        set_gpu_memory_limit(physical_device, limit=limit)"
   ]
  }
 ],
 "metadata": {
  "kernelspec": {
   "display_name": "Python 3 (ipykernel)",
   "language": "python",
   "name": "python3"
  }
 },
 "nbformat": 4,
 "nbformat_minor": 4
}
